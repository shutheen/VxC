{
 "cells": [
  {
   "attachments": {},
   "cell_type": "markdown",
   "metadata": {},
   "source": [
    "<span style=\"font-family: Open Sans; font-weight: 800; font-size: 40px; font-style: normal; text-align:center;\">\n",
    "\n",
    "Especialización Inteligencia Artificial - CEIA\n",
    "\n",
    "</span>\n",
    "\n",
    "<span style=\"font-family: Open Sans; font-weight: 700; font-size: 30px; font-style: normal; text-align:center;\">\n",
    "\n",
    "Visión por Computadora I\n",
    "\n",
    "Trabajo práctico Nro. III\n",
    "\n",
    "</span>\n",
    "\n",
    "<span style=\"font-family: Open Sans; font-weight: 400; font-size: 20px; font-style: normal;\">\n",
    "\n",
    "\n",
    "\n",
    "\n",
    "</span>"
   ]
  },
  {
   "attachments": {},
   "cell_type": "markdown",
   "metadata": {},
   "source": [
    "# Tabla de Contenido"
   ]
  },
  {
   "attachments": {},
   "cell_type": "markdown",
   "metadata": {},
   "source": [
    "[Consigna](#Consigna)<br>\n",
    "[Punto I](#Parte-I)<br>\n",
    "[Punto II](#Parte-II)<br>\n",
    "[Punto III](#Parte-II)<br>"
   ]
  },
  {
   "attachments": {},
   "cell_type": "markdown",
   "metadata": {},
   "source": [
    "# Consigna\n",
    "\n",
    "▪ Encontrar el logotipo de la gaseosa dentro de las imágenes provistas en\n",
    "Material_TPs/TP3/images a partir del template Material_TPs/TP3/template.\n",
    "\n",
    "1. (4 puntos) Obtener una detección del logo en cada imagen sin falsos positivos\n",
    "2. (4 puntos) Plantear y validar un algoritmo para múltiples detecciones en la imagen\n",
    "coca_multi.png con el mismo témplate del ítem 1\n",
    "3. (2 puntos) Generalizar el algoritmo del item 2 para todas las imágenes.\n",
    "Visualizar los resultados con bounding boxes en cada imagen mostrando el nivel de confianza\n",
    "de la detección.\n",
    "\n",
    "[inicio](#Tabla-de-contenido)"
   ]
  },
  {
   "attachments": {},
   "cell_type": "markdown",
   "metadata": {},
   "source": [
    "# Punto 0\n",
    "\n",
    "[inicio](#Tabla-de-contenido)"
   ]
  },
  {
   "cell_type": "code",
   "execution_count": 1,
   "metadata": {},
   "outputs": [],
   "source": [
    "# Importamos librerías\n",
    "%matplotlib inline  \n",
    "import numpy as np\n",
    "import cv2 as cv\n",
    "import matplotlib.pyplot as plt\n",
    "import os\n",
    "import argparse\n",
    "import imutils\n",
    "import glob\n",
    "from skimage import io, color, transform, feature\n",
    "from sklearn import svm"
   ]
  },
  {
   "cell_type": "code",
   "execution_count": 2,
   "metadata": {},
   "outputs": [],
   "source": [
    "# Cargamos el Template\n",
    "template = cv.imread('material_TP3/template/pattern.PNG', cv.IMREAD_GRAYSCALE)\n",
    "\n",
    "# Cargamos las imágenes\n",
    "img1 = cv.imread('material_TP3/images/coca_logo_1.PNG')\n",
    "img2 = cv.imread('material_TP3/images/coca_logo_2.PNG')\n",
    "img3 = cv.imread('material_TP3/images/coca_multi.PNG')\n",
    "img4 = cv.imread('material_TP3/images/coca_retro_1.PNG')\n",
    "img5 = cv.imread('material_TP3/images/coca_retro_2.PNG')\n",
    "img6 = cv.imread('material_TP3/images/COCA-COLA-LOGO.jpg')\n",
    "img7 = cv.imread('material_TP3/images/logo_1.PNG')\n",
    "\n",
    "\n",
    "# Las mostramos para chequear que se cargaron bien\n",
    "cv.imshow('Imagen Original 1 - Template', template)\n",
    "\n",
    "cv.imshow('Imagen Original 1 - coca_logo_1', img1)\n",
    "cv.imshow('Imagen Original 2 - coca_logo_2', img2)\n",
    "cv.imshow('Imagen Original 3 - coca_multi', img3)\n",
    "cv.imshow('Imagen Original 4 - coca_retro_1', img4)\n",
    "cv.imshow('Imagen Original 5 - coca_retro_2', img5)\n",
    "cv.imshow('Imagen Original 6 - COCA-COLA-LOGO', img6)\n",
    "cv.imshow('Imagen Original 7 - logo_1', img7)\n",
    "\n",
    "cv.waitKey(0)\n",
    "cv.destroyAllWindows()"
   ]
  },
  {
   "cell_type": "markdown",
   "metadata": {},
   "source": [
    "# Punto 1\n",
    "\n",
    "[inicio](#Tabla-de-contenido)"
   ]
  },
  {
   "cell_type": "markdown",
   "metadata": {},
   "source": [
    "▪ Encontrar el logotipo de la gaseosa dentro de las imágenes provistas en\n",
    "Material_TPs/TP3/images a partir del template Material_TPs/TP3/template.\n",
    "\n",
    "1. (4 puntos) Obtener una detección del logo en cada imagen sin falsos positivos"
   ]
  },
  {
   "cell_type": "markdown",
   "metadata": {},
   "source": [
    "Aplicamos el Detector de Bordes Canny"
   ]
  },
  {
   "cell_type": "code",
   "execution_count": null,
   "metadata": {},
   "outputs": [],
   "source": []
  },
  {
   "cell_type": "markdown",
   "metadata": {},
   "source": [
    "Búsqueda de un template en varias escalas de una imagen"
   ]
  },
  {
   "cell_type": "code",
   "execution_count": null,
   "metadata": {},
   "outputs": [],
   "source": []
  },
  {
   "cell_type": "markdown",
   "metadata": {},
   "source": [
    "# Punto 2\n",
    "\n",
    "[inicio](#Tabla-de-contenido)"
   ]
  },
  {
   "cell_type": "markdown",
   "metadata": {},
   "source": [
    "2. (4 puntos) Plantear y validar un algoritmo para múltiples detecciones en la imagen\n",
    "coca_multi.png con el mismo témplate del ítem 1"
   ]
  },
  {
   "cell_type": "markdown",
   "metadata": {},
   "source": [
    "Para cumplir con este punto vamos a utilizar el métomo de \"TM_CCOEFF_NORMED\" para lograr el matcheo. Previamente redimensionar el template para conseguir el mayor nro. de coincidencias y hacer pruebas con diferentes valores de threshold. Se utilizó el filtro de contorno de canny para conseguir mayor exactitud y eliminar algunos falsos positivos. Además, luego se agregó la supresión de no máximos para evitar solapamiento como vimos en la clase."
   ]
  },
  {
   "cell_type": "code",
   "execution_count": 3,
   "metadata": {},
   "outputs": [],
   "source": [
    "# Transformamos la imagen de \"coca_multi\" a escala de grises\n",
    "img_gray = cv.cvtColor(img3, cv.COLOR_BGR2GRAY)\n",
    "\n",
    "# Invertimos los colores del template\n",
    "template = cv.bitwise_not(template)\n",
    "\n",
    "# Redimensionamos el template para conseguir la mayor cantidad de coincidencias\n",
    "nuevo_ancho = int(template.shape[1] * 0.19)\n",
    "nuevo_alto = int(template.shape[0] * 0.25)\n",
    "template_redimensionado = cv.resize(template, (nuevo_ancho, nuevo_alto))\n",
    "\n",
    "w, h = template_redimensionado.shape[::-1]\n",
    "res = cv.matchTemplate(img_gray, template_redimensionado, cv.TM_CCOEFF_NORMED)\n",
    "threshold = 0.47\n",
    "\n",
    "loc = np.where(res >= threshold)\n",
    "\n",
    "# Aplicamos supresión de no máximos\n",
    "detections = []\n",
    "for pt in zip(*loc[::-1]):\n",
    "    x, y = pt\n",
    "    if not any(x - w <= xx <= x + w and y - h <= yy <= y + h for xx, yy in detections):\n",
    "        \n",
    "        # Aplicamos filtro de contorno de Canny a la región de detección\n",
    "        roi = img_gray[y:y+h, x:x+w]\n",
    "        edges = cv.Canny(roi, threshold1=140, threshold2=150)\n",
    "        \n",
    "        if np.sum(edges) > 0:\n",
    "            detections.append((x, y))\n",
    "\n",
    "# Dibujamos el rectángulo en las detecciones después de la supresión de no máximos y el filtro de contorno\n",
    "for pt in detections:\n",
    "    cv.rectangle(img3, pt, (pt[0] + w, pt[1] + h), (0, 255, 0), 2)\n",
    "\n",
    "cv.imshow(\"Detecciones\", img3)\n",
    "cv.waitKey(0)\n",
    "cv.destroyAllWindows()\n"
   ]
  },
  {
   "cell_type": "markdown",
   "metadata": {},
   "source": [
    "# Punto 3\n",
    "\n",
    "[inicio](#Tabla-de-contenido)"
   ]
  },
  {
   "cell_type": "markdown",
   "metadata": {},
   "source": [
    "3. (2 puntos) Generalizar el algoritmo del item 2 para todas las imágenes.\n",
    "Visualizar los resultados con bounding boxes en cada imagen mostrando el nivel de confianza\n",
    "de la detección."
   ]
  },
  {
   "cell_type": "code",
   "execution_count": 4,
   "metadata": {},
   "outputs": [],
   "source": [
    "def detect_and_visualize(image_path, template_path, template_width, template_height, threshold):\n",
    "    # Cargamos la imagen y el template\n",
    "    img_rgb = cv.imread(image_path)\n",
    "    img_gray = cv.cvtColor(img_rgb, cv.COLOR_BGR2GRAY)\n",
    "    template = cv.imread(template_path, cv.IMREAD_GRAYSCALE)\n",
    "    \n",
    "    # Invertimos colores del template\n",
    "    template = cv.bitwise_not(template)\n",
    "    \n",
    "    # Redimensionamos el template\n",
    "    template_resized = cv.resize(template, (template_width, template_height))\n",
    "    \n",
    "    w, h = template_resized.shape[::-1]\n",
    "    res = cv.matchTemplate(img_gray, template_resized, cv.TM_CCOEFF_NORMED)\n",
    "    \n",
    "    loc = np.where(res >= threshold)\n",
    "    \n",
    "    # Aplicamos supresión de no máximos\n",
    "    detections = []\n",
    "    for pt in zip(*loc[::-1]):\n",
    "        x, y = pt\n",
    "        if not any(x - w <= xx <= x + w and y - h <= yy <= y + h for xx, yy in detections):\n",
    "            \n",
    "            # Aplicamos filtro de contorno de Canny a la región de detección\n",
    "            roi = img_gray[y:y+h, x:x+w]\n",
    "            edges = cv.Canny(roi, threshold1=140, threshold2=150)\n",
    "            \n",
    "            if np.sum(edges) > 0:\n",
    "                detections.append((x, y))\n",
    "    \n",
    "    # Dibujamos el rectángulo en las detecciones después de la supresión de no máximos y el filtro de contorno\n",
    "    for pt in detections:\n",
    "        cv.rectangle(img_rgb, pt, (pt[0] + w, pt[1] + h), (0, 255, 0), 2)\n",
    "    \n",
    "    # Mostramos imagen con detecciones marcadas y nivel de confianza\n",
    "    for pt in detections:\n",
    "        confidence = res[pt[1], pt[0]]\n",
    "        cv.putText(img_rgb, f'Conf: {confidence:.2f}', (pt[0], pt[1] - 10), cv.FONT_HERSHEY_SIMPLEX, 0.5, (255, 0, 0), 2)\n",
    "    \n",
    "    cv.imshow(\"Detecciones\", img_rgb)\n",
    "    cv.waitKey(0)\n",
    "    cv.destroyAllWindows()\n",
    "\n"
   ]
  },
  {
   "cell_type": "code",
   "execution_count": 5,
   "metadata": {},
   "outputs": [],
   "source": [
    "# Llamamos a la función seteando los parámetros en los argumentos\n",
    "\n",
    "detect_and_visualize('material_TP3/images/coca_logo_1.PNG', 'material_TP3/template/pattern.PNG', 135, 60, threshold=0.2)\n",
    "detect_and_visualize('material_TP3/images/coca_logo_2.png', 'material_TP3/template/pattern.PNG', 180, 90, threshold=0.195)\n",
    "detect_and_visualize('material_TP3/images/COCA-COLA-LOGO.jpg', 'material_TP3/template/pattern.PNG', 1200, 400, threshold=0.195)\n",
    "detect_and_visualize('material_TP3/images/coca_multi.png', 'material_TP3/template/pattern.PNG', 90, 40, threshold=0.47)\n",
    "detect_and_visualize('material_TP3/images/coca_retro_1.png', 'material_TP3/template/pattern.PNG', 470, 150, threshold=0.25)\n",
    "detect_and_visualize('material_TP3/images/coca_retro_2.png', 'material_TP3/template/pattern.PNG', 150, 50, threshold=0.37)\n",
    "detect_and_visualize('material_TP3/images/logo_1.png', 'material_TP3/template/pattern.PNG', 260, 100, threshold=0.237)"
   ]
  }
 ],
 "metadata": {
  "kernelspec": {
   "display_name": "Python 3.7.10 ('vision-robotica')",
   "language": "python",
   "name": "python3"
  },
  "language_info": {
   "codemirror_mode": {
    "name": "ipython",
    "version": 3
   },
   "file_extension": ".py",
   "mimetype": "text/x-python",
   "name": "python",
   "nbconvert_exporter": "python",
   "pygments_lexer": "ipython3",
   "version": "3.10.11"
  },
  "vscode": {
   "interpreter": {
    "hash": "0af437b5139b375ee3fab2b21e8a1376590e14b3c752e237587dc080bd8d5be3"
   }
  }
 },
 "nbformat": 4,
 "nbformat_minor": 2
}
