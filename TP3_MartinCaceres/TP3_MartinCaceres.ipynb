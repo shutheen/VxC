{
 "cells": [
  {
   "attachments": {},
   "cell_type": "markdown",
   "metadata": {},
   "source": [
    "<span style=\"font-family: Open Sans; font-weight: 800; font-size: 40px; font-style: normal; text-align:center;\">\n",
    "\n",
    "Especialización Inteligencia Artificial - CEIA\n",
    "\n",
    "</span>\n",
    "\n",
    "<span style=\"font-family: Open Sans; font-weight: 700; font-size: 30px; font-style: normal; text-align:center;\">\n",
    "\n",
    "Visión por Computadora I\n",
    "\n",
    "Trabajo práctico Nro. III\n",
    "\n",
    "</span>\n",
    "\n",
    "<span style=\"font-family: Open Sans; font-weight: 400; font-size: 20px; font-style: normal;\">\n",
    "\n",
    "\n",
    "\n",
    "\n",
    "</span>"
   ]
  },
  {
   "attachments": {},
   "cell_type": "markdown",
   "metadata": {},
   "source": [
    "# Tabla de Contenido"
   ]
  },
  {
   "attachments": {},
   "cell_type": "markdown",
   "metadata": {},
   "source": [
    "[Consigna](#Consigna)<br>\n",
    "[Punto I](#Parte-I)<br>\n",
    "[Punto II](#Parte-II)<br>\n",
    "[Punto III](#Parte-II)<br>"
   ]
  },
  {
   "attachments": {},
   "cell_type": "markdown",
   "metadata": {},
   "source": [
    "# Consigna\n",
    "\n",
    "▪ Encontrar el logotipo de la gaseosa dentro de las imágenes provistas en\n",
    "Material_TPs/TP3/images a partir del template Material_TPs/TP3/template.\n",
    "\n",
    "1. (4 puntos) Obtener una detección del logo en cada imagen sin falsos positivos\n",
    "2. (4 puntos) Plantear y validar un algoritmo para múltiples detecciones en la imagen\n",
    "coca_multi.png con el mismo témplate del ítem 1\n",
    "3. (2 puntos) Generalizar el algoritmo del item 2 para todas las imágenes.\n",
    "Visualizar los resultados con bounding boxes en cada imagen mostrando el nivel de confianza\n",
    "de la detección.\n",
    "\n",
    "[inicio](#Tabla-de-contenido)"
   ]
  },
  {
   "attachments": {},
   "cell_type": "markdown",
   "metadata": {},
   "source": [
    "# Punto 0\n",
    "\n",
    "[inicio](#Tabla-de-contenido)"
   ]
  },
  {
   "cell_type": "code",
   "execution_count": 91,
   "metadata": {},
   "outputs": [],
   "source": [
    "# Importamos librerías\n",
    "%matplotlib inline  \n",
    "import numpy as np\n",
    "import cv2 as cv\n",
    "import matplotlib.pyplot as plt"
   ]
  },
  {
   "cell_type": "code",
   "execution_count": 138,
   "metadata": {},
   "outputs": [
    {
     "data": {
      "text/plain": [
       "\"\\n# Las mostramos para chequear que se cargaron bien\\ncv.imshow('Imagen Original 1 - Template', template)\\n\\ncv.imshow('Imagen Original 1 - coca_logo_1', img1)\\ncv.imshow('Imagen Original 2 - coca_logo_2', img2)\\ncv.imshow('Imagen Original 3 - coca_multi', img3)\\ncv.imshow('Imagen Original 4 - coca_retro_1', img4)\\ncv.imshow('Imagen Original 5 - coca_retro_2', img5)\\ncv.imshow('Imagen Original 6 - COCA-COLA-LOGO', img6)\\ncv.imshow('Imagen Original 7 - logo_1', img7)\\n\\ncv.waitKey(0)\\ncv.destroyAllWindows()\\n\""
      ]
     },
     "execution_count": 138,
     "metadata": {},
     "output_type": "execute_result"
    }
   ],
   "source": [
    "# Cargamos el Template en escala de grises\n",
    "template = cv.imread('material_TP3/template/pattern.PNG', cv.IMREAD_GRAYSCALE)\n",
    "\n",
    "# Cargamos las imágenes\n",
    "img1 = cv.imread('material_TP3/images/coca_logo_1.PNG')\n",
    "img2 = cv.imread('material_TP3/images/coca_logo_2.PNG')\n",
    "img3 = cv.imread('material_TP3/images/COCA-COLA-LOGO.jpg')\n",
    "img4 = cv.imread('material_TP3/images/coca_multi.png')\n",
    "img5 = cv.imread('material_TP3/images/coca_retro_1.png')\n",
    "img6 = cv.imread('material_TP3/images/coca_retro_2.png')\n",
    "img7 = cv.imread('material_TP3/images/logo_1.png')\n",
    "\n",
    "\n",
    "\"\"\"\n",
    "# Las mostramos para chequear que se cargaron bien\n",
    "cv.imshow('Imagen Original 1 - Template', template)\n",
    "\n",
    "cv.imshow('Imagen Original 1 - coca_logo_1', img1)\n",
    "cv.imshow('Imagen Original 2 - coca_logo_2', img2)\n",
    "cv.imshow('Imagen Original 3 - coca_multi', img3)\n",
    "cv.imshow('Imagen Original 4 - coca_retro_1', img4)\n",
    "cv.imshow('Imagen Original 5 - coca_retro_2', img5)\n",
    "cv.imshow('Imagen Original 6 - COCA-COLA-LOGO', img6)\n",
    "cv.imshow('Imagen Original 7 - logo_1', img7)\n",
    "\n",
    "cv.waitKey(0)\n",
    "cv.destroyAllWindows()\n",
    "\"\"\""
   ]
  },
  {
   "cell_type": "markdown",
   "metadata": {},
   "source": [
    "-----------------------------------------"
   ]
  },
  {
   "cell_type": "markdown",
   "metadata": {},
   "source": [
    "# Punto 1\n",
    "\n",
    "[inicio](#Tabla-de-contenido)"
   ]
  },
  {
   "cell_type": "markdown",
   "metadata": {},
   "source": [
    "▪ Encontrar el logotipo de la gaseosa dentro de las imágenes provistas en\n",
    "Material_TPs/TP3/images a partir del template Material_TPs/TP3/template.\n",
    "\n",
    "1. (4 puntos) Obtener una detección del logo en cada imagen sin falsos positivos"
   ]
  },
  {
   "cell_type": "code",
   "execution_count": 159,
   "metadata": {},
   "outputs": [],
   "source": [
    "# Funciones Punto 1\n",
    "\n",
    "def detectar_bordes_y_suprimir(img, thresh1, thresh2):\n",
    "    bordes = cv.Canny(img, thresh1, thresh2)\n",
    "    return np.sum(bordes) > 0\n",
    "\n",
    "def aplicar_filtro_canny_en_region(img_gray, x, y, w, h, threshold1, threshold2):\n",
    "    roi = img_gray[y:y+h, x:x+w]\n",
    "    bordes = cv.Canny(roi, threshold1 = threshold1, threshold2 = threshold2)\n",
    "    return np.sum(bordes) > 0\n",
    "\n",
    "def find_template_matches(img_gray, template_redimensionado, threshold):\n",
    "    w, h = template_redimensionado.shape[::-1]\n",
    "    res = cv.matchTemplate(img_gray, template_redimensionado, cv.TM_CCOEFF_NORMED)\n",
    "    loc = np.where(res >= threshold)\n",
    "    return loc, res\n",
    "\n",
    "\n",
    "def detect_and_visualize(img ,template, template_w, template_h, threshold, inv_template):\n",
    "    \n",
    "    # Pasamos la imagen a escala de grises\n",
    "    img_gray = cv.cvtColor(img, cv.COLOR_BGR2GRAY)\n",
    "    \n",
    "    # Invertimos colores del template si es necesario\n",
    "    if inv_template:\n",
    "        template = cv.bitwise_not(template)\n",
    "    \n",
    "    # Redimensionamos el template\n",
    "    template_redimensionado = cv.resize(template, (template_w, template_h))\n",
    "    loc, res = find_template_matches(img_gray, template_redimensionado, threshold) \n",
    "\n",
    "    w = template_w\n",
    "    h = template_h\n",
    "    \n",
    "    # Aplicamos supresión de no máximos\n",
    "    detecciones = []\n",
    "    for pt in zip(*loc[::-1]):\n",
    "        x, y = pt\n",
    "        if not any(x - w <= xx <= x + w and y - h <= yy <= y + h for xx, yy in detecciones):\n",
    "            if aplicar_filtro_canny_en_region(img_gray, x, y, w, h, threshold1=140, threshold2=150):\n",
    "                detecciones.append((x, y))\n",
    "    \n",
    "    # Dibujamos el rectángulo en las detecciones después de la supresión de no máximos y el filtro de contorno\n",
    "    for pt in detecciones:\n",
    "        cv.rectangle(img, pt, (pt[0] + w, pt[1] + h), (0, 255, 0), 2)\n",
    "    \n",
    "    # Mostramos imagen con detecciones marcadas y nivel de confianza\n",
    "    for pt in detecciones:\n",
    "        conf = res[pt[1], pt[0]]\n",
    "        cv.putText(img, f'Conf: {conf:.2f}', (pt[0], pt[1] - 10), cv.FONT_HERSHEY_SIMPLEX, 0.5, (255, 0, 0), 2)\n",
    "    \n",
    "    cv.imshow(\"Detecciones\", img)\n",
    "    cv.waitKey(0)\n",
    "    cv.destroyAllWindows()"
   ]
  },
  {
   "cell_type": "code",
   "execution_count": 161,
   "metadata": {},
   "outputs": [],
   "source": [
    "# Punto 1\n",
    "\n",
    "# Llamamos a la función\n",
    "\n",
    "detect_and_visualize(img1, template, 135, 60, threshold=0.2, inv_template = True)\n",
    "detect_and_visualize(img2, template, 170, 95, threshold=0.20, inv_template = True)\n",
    "detect_and_visualize(img3, template, 1200, 400, threshold=0.195, inv_template = True)\n",
    "detect_and_visualize(img4, template, 90, 40, threshold=0.47, inv_template = True)\n",
    "detect_and_visualize(img5, template, 500, 165, threshold=0.29, inv_template = False)\n",
    "detect_and_visualize(img6, template, 150, 50, threshold=0.37, inv_template = True)\n",
    "detect_and_visualize(img7, template, 260, 100, threshold=0.237, inv_template = True)"
   ]
  },
  {
   "cell_type": "markdown",
   "metadata": {},
   "source": [
    "-------------------------------------"
   ]
  },
  {
   "cell_type": "markdown",
   "metadata": {},
   "source": [
    "# Punto 2\n",
    "\n",
    "[inicio](#Tabla-de-contenido)"
   ]
  },
  {
   "cell_type": "markdown",
   "metadata": {},
   "source": [
    "2. (4 puntos) Plantear y validar un algoritmo para múltiples detecciones en la imagen\n",
    "coca_multi.png con el mismo témplate del ítem 1"
   ]
  },
  {
   "cell_type": "code",
   "execution_count": 29,
   "metadata": {},
   "outputs": [],
   "source": [
    "# Funciones Punto 2\n",
    "\n",
    "def detectar_bordes_y_suprimir(imagen, thresh1, thresh2):\n",
    "    bordes = cv.Canny(imagen, thresh1, thresh2)\n",
    "    return np.sum(bordes) > 0\n",
    "\n",
    "def encontrar_mejor_coincidencia_template(img_gris, template_escalado, threshl):\n",
    "    res = cv.matchTemplate(img_gris, template_escalado, cv.TM_CCOEFF_NORMED)\n",
    "    loc = np.where(res >= threshl)\n",
    "    \n",
    "    detecciones = set()\n",
    "    for pt in zip(*loc[::-1]):\n",
    "        x, y = pt\n",
    "        w, h = template_escalado.shape[::-1]\n",
    "        \n",
    "        if not any(x - w <= xx <= x + w and y - h <= yy <= y + h for xx, yy in detecciones):\n",
    "            roi = img_gris[y:y+h, x:x+w]\n",
    "            if detectar_bordes_y_suprimir(roi, thresh1=140, thresh2=150):\n",
    "                detecciones.add((x, y))\n",
    "    \n",
    "    return detecciones"
   ]
  },
  {
   "cell_type": "code",
   "execution_count": 30,
   "metadata": {},
   "outputs": [],
   "source": [
    "# Punto 2\n",
    "\n",
    "def punto_2(ruta_imagen, tamaños_template, template, template_gris, template_inv):\n",
    "    img_rgb = cv.imread(ruta_imagen)\n",
    "    img_gris = cv.cvtColor(img_rgb, cv.COLOR_BGR2GRAY)\n",
    "\n",
    "    mejor_medida = None\n",
    "    max_deteccion = 0\n",
    "    threshold = 0.45\n",
    "\n",
    "    for tamaño in tamaños_template:\n",
    "        escala = tamaño / 100\n",
    "        template_escalado = cv.resize(template_inv, None, fx = escala, fy = escala)\n",
    "        \n",
    "        detecciones = encontrar_mejor_coincidencia_template(img_gris, template_escalado, threshold)\n",
    "        num_detecciones = len(detecciones)\n",
    "        \n",
    "        if num_detecciones > max_deteccion:\n",
    "            max_deteccion = num_detecciones\n",
    "            mejor_medida = template_escalado.shape[::-1]\n",
    "            mejor_deteccion = detecciones\n",
    "    \n",
    "    for pt in mejor_deteccion:\n",
    "        x, y = pt\n",
    "        w, h = mejor_medida\n",
    "        cv.rectangle(img_rgb, (x, y), (x + w, y + h), (0, 255, 0), 2)\n",
    "    \n",
    "    cv.imshow(\"Detecciones\", img_rgb)\n",
    "    cv.waitKey(0)\n",
    "    cv.destroyAllWindows()\n"
   ]
  },
  {
   "cell_type": "code",
   "execution_count": 31,
   "metadata": {},
   "outputs": [],
   "source": [
    "\n",
    "ruta_imagen = 'Material_TP3/images/coca_multi.png'\n",
    "tamaños_template = [10, 15, 20, 25, 40, 60, 80, 100]\n",
    "template = cv.imread('Material_TP3/template/pattern.png')\n",
    "template_gris = cv.cvtColor(template, cv.COLOR_BGR2GRAY)\n",
    "template_inv = cv.bitwise_not(template_gris)\n",
    "    \n",
    "punto_2(ruta_imagen, tamaños_template, template, template_gris, template_inv)"
   ]
  },
  {
   "cell_type": "markdown",
   "metadata": {},
   "source": [
    "-----------------------------------"
   ]
  },
  {
   "cell_type": "markdown",
   "metadata": {},
   "source": [
    "# Punto 3\n",
    "\n",
    "[inicio](#Tabla-de-contenido)"
   ]
  },
  {
   "cell_type": "markdown",
   "metadata": {},
   "source": [
    "3. (2 puntos) Generalizar el algoritmo del item 2 para todas las imágenes.\n",
    "Visualizar los resultados con bounding boxes en cada imagen mostrando el nivel de confianza\n",
    "de la detección."
   ]
  },
  {
   "cell_type": "code",
   "execution_count": null,
   "metadata": {},
   "outputs": [],
   "source": []
  },
  {
   "cell_type": "markdown",
   "metadata": {},
   "source": [
    "Este no llegué"
   ]
  },
  {
   "cell_type": "markdown",
   "metadata": {},
   "source": [
    "-----------------------------------"
   ]
  }
 ],
 "metadata": {
  "kernelspec": {
   "display_name": "Python 3.7.10 ('vision-robotica')",
   "language": "python",
   "name": "python3"
  },
  "language_info": {
   "codemirror_mode": {
    "name": "ipython",
    "version": 3
   },
   "file_extension": ".py",
   "mimetype": "text/x-python",
   "name": "python",
   "nbconvert_exporter": "python",
   "pygments_lexer": "ipython3",
   "version": "3.10.11"
  },
  "vscode": {
   "interpreter": {
    "hash": "0af437b5139b375ee3fab2b21e8a1376590e14b3c752e237587dc080bd8d5be3"
   }
  }
 },
 "nbformat": 4,
 "nbformat_minor": 2
}
